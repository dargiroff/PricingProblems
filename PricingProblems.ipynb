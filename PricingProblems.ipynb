{
 "cells": [
  {
   "cell_type": "code",
   "execution_count": 2,
   "outputs": [],
   "source": [
    "import numpy as np\n",
    "import matplotlib.pyplot as plt\n",
    "from scipy.stats import norm"
   ],
   "metadata": {
    "collapsed": false,
    "pycharm": {
     "name": "#%%\n",
     "is_executing": false
    }
   }
  },
  {
   "cell_type": "code",
   "execution_count": 3,
   "outputs": [
    {
     "data": {
      "text/plain": "0.04787683379013834"
     },
     "metadata": {},
     "output_type": "execute_result",
     "execution_count": 3
    }
   ],
   "source": [
    "#Question A\n",
    "#Part 1\n",
    "def calltree_numpy(S0, K, T, r, sigma, q, N):\n",
    "    \"\"\"\n",
    "    Calculates the price of a call option based on input parameters\n",
    "    \n",
    "    :param S0: float\n",
    "        The price of the underlying asset at the initial moment\n",
    "    :param K: float\n",
    "        The strike price of the option\n",
    "    :param T: float\n",
    "        Expiry time of the option\n",
    "    :param r: float\n",
    "        The annualized risk free interest rate\n",
    "    :param sigma: float\n",
    "        The standard deviation of the stock's returns\n",
    "    :param q: float\n",
    "        The dividend yield of the underlying stock\n",
    "    :param N: int\n",
    "        Number of periods\n",
    "    :return: C: float\n",
    "        The price of the call option\n",
    "    \"\"\"\n",
    "    deltaT = T / float(N)\n",
    "    u = np.exp(sigma*np.sqrt(deltaT))\n",
    "    d = 1.0 / u\n",
    "    p = (np.exp((r-q)*deltaT)-d) / (u-d)\n",
    "    piu = np.exp(-r*deltaT) * p\n",
    "    pid = np.exp(-r*deltaT) * (1-p)\n",
    "    C = np.zeros((N+1, N+1))\n",
    "    S = S0 * u**np.arange(N+1) * d**(2*np.arange(N+1)[:, np.newaxis])\n",
    "    S = np.triu(S) \n",
    "    C[:, N] = np.maximum(0, S[:, N]-K) \n",
    "    for j in range(N-1, -1, -1):\n",
    "        C[:j+1, j] = piu * C[:j+1, j+1] + pid * C[1:j+2, j+1]\n",
    "    return  C[0, 0]\n",
    "calltree_numpy(10, 12, 3/12, 0.03, 0.25, 0.01, 500)"
   ],
   "metadata": {
    "collapsed": false,
    "pycharm": {
     "name": "#%%\n",
     "is_executing": false
    }
   }
  },
  {
   "cell_type": "code",
   "execution_count": 4,
   "outputs": [
    {
     "data": {
      "text/plain": "1.9911270877212766"
     },
     "metadata": {},
     "output_type": "execute_result",
     "execution_count": 4
    }
   ],
   "source": [
    "def chooser(S0, K, T, r, sigma, q, N, M):\n",
    "    \"\"\"\n",
    "    Calculates the price of a call option based on input parameters\n",
    "    \n",
    "    :param S0: float\n",
    "        The price of the underlying asset at the initial moment\n",
    "    :param K: float\n",
    "        The strike price of the option\n",
    "    :param T: float\n",
    "        Expiry time of the option\n",
    "    :param r: float\n",
    "        The annualized risk free interest rate\n",
    "    :param sigma: float\n",
    "        The standard deviation of the stock's returns\n",
    "    :param q: float\n",
    "        The dividend yield of the underlying stock\n",
    "    :param N: int\n",
    "        Number of periods\n",
    "    :param M: int\n",
    "            The period in which the choice is exercised (<=N)\n",
    "    :return: CH: float\n",
    "        The price of the chooser option\n",
    "    \"\"\"\n",
    "    deltaT = T / float(N)\n",
    "    u = np.exp(sigma*np.sqrt(deltaT))\n",
    "    d = 1.0 / u\n",
    "    p = (np.exp((r-q)*deltaT)-d) / (u-d)\n",
    "    piu = np.exp(-r*deltaT) * p\n",
    "    pid = np.exp(-r*deltaT) * (1-p)\n",
    "    C = np.zeros((N+1, N+1))\n",
    "    P = np.zeros((N+1, N+1))\n",
    "    S = S0 * u**np.arange(N+1) * d**(2*np.arange(N+1)[:, np.newaxis])\n",
    "    S = np.triu(S)\n",
    "    C[:, N] = np.maximum(0, S[:, N]-K) \n",
    "    P[:, N] = np.maximum(0, K-S[:, N])  \n",
    "    for j in range(N-1, -1, -1):\n",
    "        C[:j+1, j] = piu * C[:j+1, j+1] + pid * C[1:j+2, j+1]\n",
    "    for j in range(N-1, -1, -1):\n",
    "        P[:j+1, j] = piu * P[:j+1, j+1] + pid * P[1:j+2, j+1]    \n",
    "    CH = np.zeros((M+1, M+1))\n",
    "    CH[:, M] = np.maximum(C[:M+1, M], P[:M+1, M])\n",
    "    for j in range(M-1, -1, -1):\n",
    "        CH[:j+1, j] = piu * CH[:j+1, j+1] + pid * CH[1:j+2, j+1]  \n",
    "    return CH[0, 0]\n",
    "chooser(10, 12, 3/12, 0.03, 0.25, 0.01, 500, 250)"
   ],
   "metadata": {
    "collapsed": false,
    "pycharm": {
     "name": "#%%\n",
     "is_executing": false
    }
   }
  },
  {
   "cell_type": "code",
   "execution_count": 5,
   "outputs": [
    {
     "data": {
      "text/plain": "2.0133898108186448"
     },
     "metadata": {},
     "output_type": "execute_result",
     "execution_count": 5
    }
   ],
   "source": [
    "def chooser_american(S0, K, T, r, sigma, q, N, M):\n",
    "    \"\"\"\n",
    "    Calculates the price of a call option based on input parameters\n",
    "    \n",
    "    :param S0: float\n",
    "        The price of the underlying asset at the initial moment\n",
    "    :param K: float\n",
    "        The strike price of the option\n",
    "    :param T: float\n",
    "        Expiry time of the option\n",
    "    :param r: float\n",
    "        The annualized risk free interest rate\n",
    "    :param sigma: float\n",
    "        The standard deviation of the stock's returns\n",
    "    :param q: float\n",
    "        The dividend yield of the underlying stock\n",
    "    :param N: int\n",
    "        Number of periods\n",
    "    :param M: int\n",
    "            The period in which the choice is exercised (<=N)\n",
    "    :return: CHA: float\n",
    "        The price of the american chooser option\n",
    "    \"\"\"\n",
    "    deltaT = T / float(N)\n",
    "    u = np.exp(sigma*np.sqrt(deltaT))\n",
    "    d = 1.0 / u\n",
    "    p = (np.exp((r-q)*deltaT)-d) / (u-d)\n",
    "    piu = np.exp(-r*deltaT) * p\n",
    "    pid = np.exp(-r*deltaT) * (1-p)\n",
    "    C = np.zeros((N+1, N+1))\n",
    "    P = np.zeros((N+1, N+1))\n",
    "    S = S0 * u**np.arange(N+1) * d**(2*np.arange(N+1)[:, np.newaxis])\n",
    "    S = np.triu(S)\n",
    "    C[:, N] = np.maximum(0, S[:, N]-K) \n",
    "    P[:, N] = np.maximum(0, K-S[:, N])  \n",
    "    for j in range(N-1, M-1, -1):\n",
    "        C[:j+1, j] = piu * C[:j+1, j+1] + pid * C[1:j+2, j+1]\n",
    "        C[:j+1, j] = np.maximum(C[:j+1, j], S[:j+1, j]-K )\n",
    "    for j in range(N-1, -1, -1):\n",
    "        P[:j+1, j] = piu * P[:j+1, j+1] + pid * P[1:j+2, j+1]\n",
    "        P[:j+1, j] = np.maximum(P[:j+1, j], K-S[:j+1, j] )\n",
    "    CHA = np.zeros((M+1, M+1))\n",
    "    CHA[:, M] = np.maximum(C[:M+1, M], P[:M+1, M])\n",
    "    for j in range(M-1, -1, -1):\n",
    "        CHA[:j+1, j] = piu * CHA[:j+1, j+1] + pid * CHA[1:j+2, j+1]  \n",
    "    return CHA[0, 0]\n",
    "chooser_american(10, 12, 3/12, 0.03, 0.25, 0.01, 500, 250)"
   ],
   "metadata": {
    "collapsed": false,
    "pycharm": {
     "name": "#%%\n",
     "is_executing": false
    }
   }
  },
  {
   "cell_type": "code",
   "execution_count": 6,
   "outputs": [
    {
     "data": {
      "text/plain": "<Figure size 576x432 with 1 Axes>",
      "image/png": "[encoded data removed]"
     },
     "metadata": {
      "needs_background": "light"
     },
     "output_type": "display_data"
    }
   ],
   "source": [
    "# Graphing the behaviour of the American and the European chooser\n",
    "\n",
    "matrixEU=np.zeros(500)\n",
    "matrixAM=np.zeros(500)\n",
    "x=range(0,500)\n",
    "for i in range(1,501):\n",
    "    matrixAM[i-1]=chooser_american(10, 12, 3/12, 0.03, 0.25, 0.01, 500, i)\n",
    "    matrixEU[i-1]=chooser(10, 12, 3/12, 0.03, 0.25, 0.01, 500, i)\n",
    "\n",
    "plt.figure(figsize=(8,6))\n",
    "plt.plot(x, matrixEU, \"blue\", label=\"European Chooser\", linewidth=1)\n",
    "plt.plot(x, matrixAM, \"red\", label=\"American Chooser\", linewidth=1)\n",
    "plt.grid(True)\n",
    "plt.xlabel(\"Point in time (M)\", size=16)\n",
    "plt.ylabel(\"Chooser Price\", size=16)\n",
    "plt.xlim(0,500)\n",
    "plt.title(\"Chooser price against time\")\n",
    "plt.legend()\n",
    "plt.show()"
   ],
   "metadata": {
    "collapsed": false,
    "pycharm": {
     "name": "#%%\n",
     "is_executing": false
    }
   }
  },
  {
   "cell_type": "markdown",
   "source": [
    "From the graph we can see that the American chooser option first has a higher price than the European chooser option.\n",
    "This could be attributed to the American chooser giving its holder more flexibility as it could be exercised during the\n",
    "whole holding period and the European option could be exercised only at maturity. As a result, the American chooser is\n",
    "more flexible which warrants the higher price on it.\n",
    "As M approaches N the American option becomes increasingly more similar to the European option, because the periods in\n",
    "which the holder can exercise decrease. Therefore, the flexibility of the American chooser decreases and its price \n",
    "becomes closer to that of the European chooser. At M=N the American option has the same payoff as the European one \n",
    "and both options can only be exercised at a point in time M=N, thus they have the same price.\n"
   ],
   "metadata": {
    "collapsed": false
   }
  },
  {
   "cell_type": "code",
   "execution_count": 7,
   "outputs": [
    {
     "name": "stdout",
     "text": [
      "X0 estimate: 29.497346110034094\n",
      "The 95% confidence interval for X0 is: [29.209885142981978;29.78480707708621]\n"
     ],
     "output_type": "stream"
    }
   ],
   "source": [
    "\n",
    "# Input parameters\n",
    "S0=12; R=0.03; T=10; sigma=0.25; numsim=10000; mu=0; q=0.01; K=S0*(1+R)**T; r=np.log(1+R)\n",
    "# Fixing the random seed for the sake of reproducibility\n",
    "np.random.seed(0) #random seed of 0\n",
    "\n",
    "\n",
    "def bmsim_vec(T, N, mu, sigma, numsim):  \n",
    "    deltaT = float(T)/N\n",
    "    z = np.random.randn(numsim, N+1)  \n",
    "    dX = mu*deltaT + sigma*np.sqrt(deltaT)*z\n",
    "    dX[:, 0] = 0.   \n",
    "    return dX\n",
    "\n",
    "\n",
    "def certificatemc(S0, R, T, sigma, q, numsim):\n",
    "    \"\"\"\n",
    "    Calculates the no arbitrage price of an index linked certificate\n",
    "    \n",
    "    :param S0: float\n",
    "        The price of the underlying asset at the initial moment\n",
    "    :param R: float\n",
    "        The annual compounding rate\n",
    "    :param T: int\n",
    "        Expiry time of the option\n",
    "    :param sigma: float\n",
    "        The standard deviation of the stock's returns\n",
    "    :param q: float\n",
    "        The dividend yield of the underlying stock\n",
    "    :param numsim: \n",
    "    :return: \n",
    "    \"\"\"\n",
    "    mu=np.log(1+R)-q-0.5*sigma**2\n",
    "    N=T\n",
    "    dX=bmsim_vec(T, N, mu, sigma, numsim)\n",
    "    rf=np.full((numsim, T+1), np.log(1+R))\n",
    "    ratemax=np.maximum(dX[:,1:], rf[:,1:])\n",
    "    payoffs=np.exp(np.log(S0)+ratemax.sum(axis=1))\n",
    "    v=np.exp(-np.log(1+R)*T)*payoffs\n",
    "    X0=v.mean()\n",
    "    s=v.std()\n",
    "    zq=norm.ppf(0.975) #0.975 because of the two-tailed distribution\n",
    "    Xl=X0-zq/np.sqrt(numsim)*s\n",
    "    Xu=X0+zq/np.sqrt(numsim)*s\n",
    "    print(\"X0 estimate: \"+ str(X0) + '\\nThe 95% confidence interval for X0 is: ['+str(Xl)+';'+str(Xu)+']')\n",
    "\n",
    "certificatemc(S0, R, T, sigma, q, numsim)"
   ],
   "metadata": {
    "collapsed": false,
    "pycharm": {
     "name": "#%%\n",
     "is_executing": false
    }
   }
  },
  {
   "cell_type": "code",
   "execution_count": 8,
   "outputs": [
    {
     "name": "stdout",
     "text": [
      "The price of the replicating portfolio is:\n"
     ],
     "output_type": "stream"
    },
    {
     "data": {
      "text/plain": "14.968538550931294"
     },
     "metadata": {},
     "output_type": "execute_result",
     "execution_count": 8
    }
   ],
   "source": [
    "# Construct a replicating portfolio\n",
    "def blackscholes(S0, K, T, r, sigma):\n",
    "    d1 = (np.log(S0)-np.log(K)+(r-q+sigma**2/2)*T)/(sigma*np.sqrt(T))\n",
    "    d2 = d1-sigma*np.sqrt(T)\n",
    "    return np.exp(-q*T)*S0*norm.cdf(d1)-np.exp(-r*T)*K*norm.cdf(d2) \n",
    "\n",
    "def rep(S0, K, T, r, sigma, q):\n",
    "    c=blackscholes(S0, K, T, r, sigma)\n",
    "    bond=S0\n",
    "    return c+bond\n",
    "print(\"The price of the replicating portfolio is:\")\n",
    "rep(S0, K, T, r, sigma, q)"
   ],
   "metadata": {
    "collapsed": false,
    "pycharm": {
     "name": "#%%\n",
     "is_executing": false
    }
   }
  },
  {
   "cell_type": "code",
   "execution_count": 9,
   "outputs": [
    {
     "name": "stdout",
     "text": [
      "The price of the derivative is:\n"
     ],
     "output_type": "stream"
    },
    {
     "data": {
      "text/plain": "14.968538550931294"
     },
     "metadata": {},
     "output_type": "execute_result",
     "execution_count": 9
    }
   ],
   "source": [
    "def F0(S0, T, r, sigma,q):\n",
    "    d1 = ((-q+0.5*sigma**2)*T)/(sigma*np.sqrt(T))\n",
    "    d2 = d1-sigma*np.sqrt(T)\n",
    "    return S0*(1+np.exp(-q*T)*(norm.cdf(d1)))- S0*norm.cdf(d2)\n",
    "print(\"The price of the derivative is:\")\n",
    "F0(S0, T, r, sigma,q)\n"
   ],
   "metadata": {
    "collapsed": false,
    "pycharm": {
     "name": "#%%\n",
     "is_executing": false
    }
   }
  },
  {
   "cell_type": "code",
   "execution_count": null,
   "outputs": [],
   "source": [
    "def F0(S0, T, r, sigma,q):\n",
    "    d1 = ((-q+0.5*sigma**2)*T)/(sigma*np.sqrt(T))\n",
    "    d2 = d1-sigma*np.sqrt(T)\n",
    "    return S0*(1+np.exp(-q*T)*(norm.cdf(d1)))- S0*norm.cdf(d2)\n",
    "print(\"The price of the derivative is:\")\n",
    "F0(S0, T, r, sigma,q)\n"
   ],
   "metadata": {
    "collapsed": false,
    "pycharm": {
     "name": "#%%\n"
    }
   }
  },
  {
   "cell_type": "code",
   "execution_count": 1,
   "outputs": [
    {
     "data": {
      "text/plain": "0.04787683379013834"
     },
     "metadata": {},
     "output_type": "execute_result",
     "execution_count": 1
    }
   ],
   "source": [
    "#Question A\n",
    "#Part 1\n",
    "def calltree_numpy(S0, K, T, r, sigma, q, N):\n",
    "    \"\"\"\n",
    "    Calculates the price of a call option based on input parameters\n",
    "    \n",
    "    :param S0: float\n",
    "        The price of the underlying asset at the initial moment\n",
    "    :param K: float\n",
    "        The strike price of the option\n",
    "    :param T: float\n",
    "        Expiry time of the option\n",
    "    :param r: float\n",
    "        The annualized risk free interest rate\n",
    "    :param sigma: float\n",
    "        The standard deviation of the stock's returns\n",
    "    :param q: float\n",
    "        The dividend yield of the underlying stock\n",
    "    :param N: int\n",
    "        Number of periods\n",
    "    :return: C: float\n",
    "        The price of the call option\n",
    "    \"\"\"\n",
    "    deltaT = T / float(N)\n",
    "    u = np.exp(sigma*np.sqrt(deltaT))\n",
    "    d = 1.0 / u\n",
    "    p = (np.exp((r-q)*deltaT)-d) / (u-d)\n",
    "    piu = np.exp(-r*deltaT) * p\n",
    "    pid = np.exp(-r*deltaT) * (1-p)\n",
    "    C = np.zeros((N+1, N+1))\n",
    "    S = S0 * u**np.arange(N+1) * d**(2*np.arange(N+1)[:, np.newaxis])\n",
    "    S = np.triu(S) \n",
    "    C[:, N] = np.maximum(0, S[:, N]-K) \n",
    "    for j in range(N-1, -1, -1):\n",
    "        C[:j+1, j] = piu * C[:j+1, j+1] + pid * C[1:j+2, j+1]\n",
    "    return  C[0, 0]\n",
    "calltree_numpy(10, 12, 3/12, 0.03, 0.25, 0.01, 500)"
   ],
   "metadata": {
    "collapsed": false,
    "pycharm": {
     "name": "#%%\n",
     "is_executing": false
    }
   }
  },
  {
   "cell_type": "code",
   "execution_count": null,
   "outputs": [],
   "source": [
    "def chooser(S0, K, T, r, sigma, q, N, M):\n",
    "    \"\"\"\n",
    "    Calculates the price of a call option based on input parameters\n",
    "    \n",
    "    :param S0: float\n",
    "        The price of the underlying asset at the initial moment\n",
    "    :param K: float\n",
    "        The strike price of the option\n",
    "    :param T: float\n",
    "        Expiry time of the option\n",
    "    :param r: float\n",
    "        The annualized risk free interest rate\n",
    "    :param sigma: float\n",
    "        The standard deviation of the stock's returns\n",
    "    :param q: float\n",
    "        The dividend yield of the underlying stock\n",
    "    :param N: int\n",
    "        Number of periods\n",
    "    :param M: int\n",
    "            The period in which the choice is exercised (<=N)\n",
    "    :return: CH: float\n",
    "        The price of the chooser option\n",
    "    \"\"\"\n",
    "    deltaT = T / float(N)\n",
    "    u = np.exp(sigma*np.sqrt(deltaT))\n",
    "    d = 1.0 / u\n",
    "    p = (np.exp((r-q)*deltaT)-d) / (u-d)\n",
    "    piu = np.exp(-r*deltaT) * p\n",
    "    pid = np.exp(-r*deltaT) * (1-p)\n",
    "    C = np.zeros((N+1, N+1))\n",
    "    P = np.zeros((N+1, N+1))\n",
    "    S = S0 * u**np.arange(N+1) * d**(2*np.arange(N+1)[:, np.newaxis])\n",
    "    S = np.triu(S)\n",
    "    C[:, N] = np.maximum(0, S[:, N]-K) \n",
    "    P[:, N] = np.maximum(0, K-S[:, N])  \n",
    "    for j in range(N-1, -1, -1):\n",
    "        C[:j+1, j] = piu * C[:j+1, j+1] + pid * C[1:j+2, j+1]\n",
    "    for j in range(N-1, -1, -1):\n",
    "        P[:j+1, j] = piu * P[:j+1, j+1] + pid * P[1:j+2, j+1]    \n",
    "    CH = np.zeros((M+1, M+1))\n",
    "    CH[:, M] = np.maximum(C[:M+1, M], P[:M+1, M])\n",
    "    for j in range(M-1, -1, -1):\n",
    "        CH[:j+1, j] = piu * CH[:j+1, j+1] + pid * CH[1:j+2, j+1]  \n",
    "    return CH[0, 0]\n",
    "chooser(10, 12, 3/12, 0.03, 0.25, 0.01, 500, 250)"
   ],
   "metadata": {
    "collapsed": false,
    "pycharm": {
     "name": "#%%\n"
    }
   }
  },
  {
   "cell_type": "code",
   "execution_count": null,
   "outputs": [],
   "source": [
    "def chooser_american(S0, K, T, r, sigma, q, N, M):\n",
    "    \"\"\"\n",
    "    Calculates the price of a call option based on input parameters\n",
    "    \n",
    "    :param S0: float\n",
    "        The price of the underlying asset at the initial moment\n",
    "    :param K: float\n",
    "        The strike price of the option\n",
    "    :param T: float\n",
    "        Expiry time of the option\n",
    "    :param r: float\n",
    "        The annualized risk free interest rate\n",
    "    :param sigma: float\n",
    "        The standard deviation of the stock's returns\n",
    "    :param q: float\n",
    "        The dividend yield of the underlying stock\n",
    "    :param N: int\n",
    "        Number of periods\n",
    "    :param M: int\n",
    "            The period in which the choice is exercised (<=N)\n",
    "    :return: CHA: float\n",
    "        The price of the american chooser option\n",
    "    \"\"\"\n",
    "    deltaT = T / float(N)\n",
    "    u = np.exp(sigma*np.sqrt(deltaT))\n",
    "    d = 1.0 / u\n",
    "    p = (np.exp((r-q)*deltaT)-d) / (u-d)\n",
    "    piu = np.exp(-r*deltaT) * p\n",
    "    pid = np.exp(-r*deltaT) * (1-p)\n",
    "    C = np.zeros((N+1, N+1))\n",
    "    P = np.zeros((N+1, N+1))\n",
    "    S = S0 * u**np.arange(N+1) * d**(2*np.arange(N+1)[:, np.newaxis])\n",
    "    S = np.triu(S)\n",
    "    C[:, N] = np.maximum(0, S[:, N]-K) \n",
    "    P[:, N] = np.maximum(0, K-S[:, N])  \n",
    "    for j in range(N-1, M-1, -1):\n",
    "        C[:j+1, j] = piu * C[:j+1, j+1] + pid * C[1:j+2, j+1]\n",
    "        C[:j+1, j] = np.maximum(C[:j+1, j], S[:j+1, j]-K )\n",
    "    for j in range(N-1, -1, -1):\n",
    "        P[:j+1, j] = piu * P[:j+1, j+1] + pid * P[1:j+2, j+1]\n",
    "        P[:j+1, j] = np.maximum(P[:j+1, j], K-S[:j+1, j] )\n",
    "    CHA = np.zeros((M+1, M+1))\n",
    "    CHA[:, M] = np.maximum(C[:M+1, M], P[:M+1, M])\n",
    "    for j in range(M-1, -1, -1):\n",
    "        CHA[:j+1, j] = piu * CHA[:j+1, j+1] + pid * CHA[1:j+2, j+1]  \n",
    "    return CHA[0, 0]\n",
    "chooser_american(10, 12, 3/12, 0.03, 0.25, 0.01, 500, 250)"
   ],
   "metadata": {
    "collapsed": false,
    "pycharm": {
     "name": "#%%\n"
    }
   }
  },
  {
   "cell_type": "code",
   "execution_count": null,
   "outputs": [],
   "source": [
    "# Graphing the behaviour of the American and the European chooser\n",
    "\n",
    "matrixEU=np.zeros(500)\n",
    "matrixAM=np.zeros(500)\n",
    "x=range(0,500)\n",
    "for i in range(1,501):\n",
    "    matrixAM[i-1]=chooser_american(10, 12, 3/12, 0.03, 0.25, 0.01, 500, i)\n",
    "    matrixEU[i-1]=chooser(10, 12, 3/12, 0.03, 0.25, 0.01, 500, i)\n",
    "\n",
    "plt.figure(figsize=(8,6))\n",
    "plt.plot(x, matrixEU, \"blue\", label=\"European Chooser\", linewidth=1)\n",
    "plt.plot(x, matrixAM, \"red\", label=\"American Chooser\", linewidth=1)\n",
    "plt.grid(True)\n",
    "plt.xlabel(\"Point in time (M)\", size=16)\n",
    "plt.ylabel(\"Chooser Price\", size=16)\n",
    "plt.xlim(0,500)\n",
    "plt.title(\"Chooser price against time\")\n",
    "plt.legend()\n",
    "plt.show()"
   ],
   "metadata": {
    "collapsed": false,
    "pycharm": {
     "name": "#%%\n"
    }
   }
  },
  {
   "cell_type": "markdown",
   "source": [
    "From the graph we can see that the American chooser option first has a higher price than the European chooser option.\n",
    "This could be attributed to the American chooser giving its holder more flexibility as it could be exercised during the\n",
    "whole holding period and the European option could be exercised only at maturity. As a result, the American chooser is\n",
    "more flexible which warrants the higher price on it.\n",
    "As M approaches N the American option becomes increasingly more similar to the European option, because the periods in\n",
    "which the holder can exercise decrease. Therefore, the flexibility of the American chooser decreases and its price \n",
    "becomes closer to that of the European chooser. At M=N the American option has the same payoff as the European one \n",
    "and both options can only be exercised at a point in time M=N, thus they have the same price.\n"
   ],
   "metadata": {
    "collapsed": false
   }
  },
  {
   "cell_type": "code",
   "execution_count": null,
   "outputs": [],
   "source": [
    "\n",
    "# Input parameters\n",
    "S0=12; R=0.03; T=10; sigma=0.25; numsim=10000; mu=0; q=0.01; K=S0*(1+R)**T; r=np.log(1+R)\n",
    "# Fixing the random seed for the sake of reproducibility\n",
    "np.random.seed(0) #random seed of 0\n",
    "\n",
    "\n",
    "def bmsim_vec(T, N, mu, sigma, numsim):  \n",
    "    deltaT = float(T)/N\n",
    "    z = np.random.randn(numsim, N+1)  \n",
    "    dX = mu*deltaT + sigma*np.sqrt(deltaT)*z\n",
    "    dX[:, 0] = 0.   \n",
    "    return dX\n",
    "\n",
    "\n",
    "def certificatemc(S0, R, T, sigma, q, numsim):\n",
    "    \"\"\"\n",
    "    Calculates the no arbitrage price of an index linked certificate\n",
    "    \n",
    "    :param S0: float\n",
    "        The price of the underlying asset at the initial moment\n",
    "    :param R: float\n",
    "        The annual compounding rate\n",
    "    :param T: int\n",
    "        Expiry time of the option\n",
    "    :param sigma: float\n",
    "        The standard deviation of the stock's returns\n",
    "    :param q: float\n",
    "        The dividend yield of the underlying stock\n",
    "    :param numsim: \n",
    "    :return: \n",
    "    \"\"\"\n",
    "    mu=np.log(1+R)-q-0.5*sigma**2\n",
    "    N=T\n",
    "    dX=bmsim_vec(T, N, mu, sigma, numsim)\n",
    "    rf=np.full((numsim, T+1), np.log(1+R))\n",
    "    ratemax=np.maximum(dX[:,1:], rf[:,1:])\n",
    "    payoffs=np.exp(np.log(S0)+ratemax.sum(axis=1))\n",
    "    v=np.exp(-np.log(1+R)*T)*payoffs\n",
    "    X0=v.mean()\n",
    "    s=v.std()\n",
    "    zq=norm.ppf(0.975) #0.975 because of the two-tailed distribution\n",
    "    Xl=X0-zq/np.sqrt(numsim)*s\n",
    "    Xu=X0+zq/np.sqrt(numsim)*s\n",
    "    print(\"X0 estimate: \"+ str(X0) + '\\nThe 95% confidence interval for X0 is: ['+str(Xl)+';'+str(Xu)+']')\n",
    "\n",
    "certificatemc(S0, R, T, sigma, q, numsim)"
   ],
   "metadata": {
    "collapsed": false,
    "pycharm": {
     "name": "#%%\n"
    }
   }
  },
  {
   "cell_type": "code",
   "execution_count": null,
   "outputs": [],
   "source": [
    "# Construct a replicating portfolio\n",
    "def blackscholes(S0, K, T, r, sigma):\n",
    "    d1 = (np.log(S0)-np.log(K)+(r-q+sigma**2/2)*T)/(sigma*np.sqrt(T))\n",
    "    d2 = d1-sigma*np.sqrt(T)\n",
    "    return np.exp(-q*T)*S0*norm.cdf(d1)-np.exp(-r*T)*K*norm.cdf(d2) \n",
    "\n",
    "def rep(S0, K, T, r, sigma, q):\n",
    "    c=blackscholes(S0, K, T, r, sigma)\n",
    "    bond=S0\n",
    "    return c+bond\n",
    "print(\"The price of the replicating portfolio is:\")\n",
    "rep(S0, K, T, r, sigma, q)"
   ],
   "metadata": {
    "collapsed": false,
    "pycharm": {
     "name": "#%%\n"
    }
   }
  },
  {
   "cell_type": "code",
   "execution_count": null,
   "outputs": [],
   "source": [
    "def F0(S0, T, r, sigma,q):\n",
    "    d1 = ((-q+0.5*sigma**2)*T)/(sigma*np.sqrt(T))\n",
    "    d2 = d1-sigma*np.sqrt(T)\n",
    "    return S0*(1+np.exp(-q*T)*(norm.cdf(d1)))- S0*norm.cdf(d2)\n",
    "print(\"The price of the derivative is:\")\n",
    "F0(S0, T, r, sigma,q)\n"
   ],
   "metadata": {
    "collapsed": false,
    "pycharm": {
     "name": "#%%\n"
    }
   }
  }
 ],
 "metadata": {
  "kernelspec": {
   "display_name": "Python 3",
   "language": "python",
   "name": "python3"
  },
  "language_info": {
   "codemirror_mode": {
    "name": "ipython",
    "version": 3
   },
   "file_extension": ".py",
   "mimetype": "text/x-python",
   "name": "python",
   "nbconvert_exporter": "python",
   "pygments_lexer": "ipython3",
   "version": "3.7.0"
  },
  "pycharm": {
   "stem_cell": {
    "cell_type": "raw",
    "source": [],
    "metadata": {
     "collapsed": false
    }
   }
  }
 },
 "nbformat": 4,
 "nbformat_minor": 2
}